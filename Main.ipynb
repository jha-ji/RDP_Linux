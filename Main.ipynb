{
  "cells": [
    {
      "cell_type": "markdown",
      "metadata": {
        "id": "view-in-github",
        "colab_type": "text"
      },
      "source": [
        "<a href=\"https://colab.research.google.com/github/amitstudydude/RDP_Linux/blob/main/Main.ipynb\" target=\"_parent\"><img src=\"https://colab.research.google.com/assets/colab-badge.svg\" alt=\"Open In Colab\"/></a>"
      ]
    },
    {
      "cell_type": "code",
      "source": [
        "#@title ssh\n",
        "%%bash\n",
        "sudo apt install ssh openssh-server &>>log.txt\n",
        "yes root | sudo passwd root &>>log.txt\n",
        "echo \"PasswordAuthentication yes\" >>sshd_config\n",
        "echo \"PermitUserEnvironment yes\" >>sshd_config\n",
        "echo \"PermitRootLogin yes\" >>sshd_config\n",
        "sudo cat sshd_config >> /etc/ssh/sshd_config\n",
        "sudo service ssh restart &>>log.txt\n",
        "rm sshd_config\n",
        "pip install jprq &>>log.txt\n",
        "##cat log.txt"
      ],
      "metadata": {
        "id": "A4-V9VZRMjqE"
      },
      "execution_count": null,
      "outputs": []
    },
    {
      "cell_type": "code",
      "source": [
        "!jprq tcp 22"
      ],
      "metadata": {
        "id": "KUm31nN7ztd_"
      },
      "execution_count": null,
      "outputs": []
    },
    {
      "cell_type": "code",
      "execution_count": null,
      "metadata": {
        "id": "wk9YNHZz40_1"
      },
      "outputs": [],
      "source": [
        "#@title localtunnel-http\n",
        "!npm install -g localtunnel\n",
        "!while :; do lt --port 5555 > cat.txt & cd .. && python3 -m http.server 5555 &  echo \" cat cat.txt && sleep 10 && bash bash.sh \" >>bash.sh ; bash bash.sh  ; done"
      ]
    },
    {
      "cell_type": "code",
      "source": [
        "!pip install yt-dlp\n",
        "!yt-dlp https://www.youtube.com/watch?v=HAPnutGsfLs"
      ],
      "metadata": {
        "id": "k2k-MUDJqdQ-"
      },
      "execution_count": null,
      "outputs": []
    },
    {
      "cell_type": "code",
      "execution_count": null,
      "metadata": {
        "id": "A4J9grV7leJ7"
      },
      "outputs": [],
      "source": [
        "#@title Http Server  \n",
        "%%bash\n",
        "cd .. && python -m http.server 4444 &\n",
        "echo 'export domain=\"5555-noov.pagekite.me\" && export port=\"4444\" && export passwd=\"3xcax747\" && export email=\"cimaw34770@weepm.com\"' >> yo && cp yo page.sh && cp yo finale.sh && rm yo\n",
        "wget -O lull https://raw.githubusercontent.com/amitstudydude/RDP_Linux/main/scripts/expect.sh && cat lull >> finale.sh && rm lull\n",
        "sudo bash finale.sh\n",
        "pagekite.py $port $domain > /dev/null 2>&1 &"
      ]
    },
    {
      "cell_type": "code",
      "execution_count": null,
      "metadata": {
        "id": "ZXpfvgDZKqHM"
      },
      "outputs": [],
      "source": [
        "#@title URL to GDRIVE { vertical-output: true }\n",
        "!su - root -c \"cd /content/drive/Shareddrives/UHDMovies.in/ && \\\n",
        " bash /content/new.sh \""
      ]
    },
    {
      "cell_type": "code",
      "source": [
        "#@title Youtube to gdrive { vertical-output: true }\n",
        "!pip install yt-dlp\n",
        "!su - root -c \"cd /content/drive/Shareddrives/UHDMovies.in/ && \\\n",
        " yt-dlp https://celebritysex.co/big-boobs-kareena-kapoor-deepfake   \""
      ],
      "metadata": {
        "id": "mXQUSKfcqn9h"
      },
      "execution_count": null,
      "outputs": []
    },
    {
      "cell_type": "code",
      "source": [
        "\n",
        "#@title you-get\n",
        "! pip install you-get\n",
        "!yes | you-get https://celebritysex.co/big-boobs-kareena-kapoor-deepfake/"
      ],
      "metadata": {
        "id": "DavaLHlZ11ue"
      },
      "execution_count": null,
      "outputs": []
    },
    {
      "cell_type": "code",
      "execution_count": null,
      "metadata": {
        "id": "4M7D-zSkt_AP"
      },
      "outputs": [],
      "source": [
        "#@title RCLONE\n",
        "%%bash\n",
        "\n",
        "curl https://raw.githubusercontent.com/amitstudydude/RDP_Linux/main/scripts/rclonemount.sh | sudo bash\n",
        "\n",
        "##z"
      ]
    },
    {
      "cell_type": "code",
      "source": [
        "#@title youtube\n",
        "%%bash\n",
        "sudo apt install expect >2\n",
        "pip install pytube >2\n",
        "cat >new.sh <<EOF\n",
        "curl https://raw.githubusercontent.com/Bluh7/Python-YouTube-Video-Downloader/main/yt_video_downloader.py | cat >new.py\n",
        "sudo /usr/bin/expect <<EOF\n",
        "spawn python new.py\n",
        "set timeout -1\n",
        "send -- \"v\\r\"\n",
        "send -- \" https://www.youtube.com/watch?v=HAPnutGsfLs\\r\"\n",
        "send -- \"v\\r\"\n",
        "send -- \"w\\r\"\n",
        "send -- \"v\\r\"\n",
        "send -- \"b\\r\"\n",
        "expect \"what?\\r\"\n",
        "EOF"
      ],
      "metadata": {
        "id": "0ytw2eid1zFx"
      },
      "execution_count": null,
      "outputs": []
    },
    {
      "cell_type": "code",
      "source": [
        "!bash new.sh"
      ],
      "metadata": {
        "id": "Ev4rbDxP32hT"
      },
      "execution_count": null,
      "outputs": []
    },
    {
      "cell_type": "code",
      "execution_count": null,
      "metadata": {
        "id": "2eeg-WTS9Wy6"
      },
      "outputs": [],
      "source": [
        "#@title unzip { vertical-output: true }\n",
        "!su - root -c \"cd /content/drive/Shareddrives/UHDMovies.in/DriveLinks/  && 7z x ./'*.zip' \""
      ]
    },
    {
      "cell_type": "code",
      "execution_count": null,
      "metadata": {
        "id": "BPbV_V3TOBBh"
      },
      "outputs": [],
      "source": [
        "#@title MEGA to GDRIVE  { vertical-output: true }\n",
        "URL = \"\"\n",
        "#\"https://mega.nz/folder/CfR0gJaB#Pgkgl6NElMuOyWU6SFAsUg\" \n",
        "OUTPUT_PATH = \"\" \n",
        "import sys, os, urllib.request\n",
        "import time\n",
        "import subprocess\n",
        "import contextlib\n",
        "from IPython.display import clear_output\n",
        "HOME = os.path.expanduser(\"~\")\n",
        "if not os.path.exists(f\"{HOME}/.ipython/ocr.py\"):\n",
        "    hCode = \"https://raw.githubusercontent.com/biplobsd/\" \\\n",
        "                \"OneClickRun/master/res/ocr.py\"\n",
        "    urllib.request.urlretrieve(hCode, f\"{HOME}/.ipython/ocr.py\")\n",
        "\n",
        "from ocr import (\n",
        "    runSh,\n",
        "    loadingAn,\n",
        ")\n",
        "if not OUTPUT_PATH:\n",
        "  os.makedirs(\"downloads\", exist_ok=True)\n",
        "  OUTPUT_PATH = \"downloads\"\n",
        "# MEGAcmd installing\n",
        "if not os.path.exists(\"/usr/bin/mega-cmd\"):\n",
        "    loadingAn()\n",
        "    print(\"Installing MEGA ...\")\n",
        "    runSh('sudo apt-get -y update')\n",
        "    runSh('sudo apt-get -y install libmms0 libc-ares2 libc6 libcrypto++6 libgcc1 libmediainfo0v5 libpcre3 libpcrecpp0v5 libssl1.1 libstdc++6 libzen0v5 zlib1g apt-transport-https')\n",
        "    runSh('sudo curl -sL -o /var/cache/apt/archives/MEGAcmd.deb https://mega.nz/linux/MEGAsync/Debian_9.0/amd64/megacmd-Debian_9.0_amd64.deb', output=True)\n",
        "    runSh('sudo dpkg -i /var/cache/apt/archives/MEGAcmd.deb', output=True)\n",
        "    print(\"MEGA is installed.\")\n",
        "    clear_output()\n",
        "\n",
        "# Unix, Windows and old Macintosh end-of-line\n",
        "newlines = ['\\n', '\\r\\n', '\\r']\n",
        "\n",
        "def unbuffered(proc, stream='stdout'):\n",
        "    stream = getattr(proc, stream)\n",
        "    with contextlib.closing(stream):\n",
        "        while True:\n",
        "            out = []\n",
        "            last = stream.read(1)\n",
        "            # Don't loop forever\n",
        "            if last == '' and proc.poll() is not None:\n",
        "                break\n",
        "            while last not in newlines:\n",
        "                # Don't loop forever\n",
        "                if last == '' and proc.poll() is not None:\n",
        "                    break\n",
        "                out.append(last)\n",
        "                last = stream.read(1)\n",
        "            out = ''.join(out)\n",
        "            yield out\n",
        "\n",
        "\n",
        "def transfare():\n",
        "    import codecs\n",
        "    decoder = codecs.getincrementaldecoder(\"UTF-8\")()\n",
        "    cmd = [\"mega-get\", URL, OUTPUT_PATH]\n",
        "    proc = subprocess.Popen(\n",
        "        cmd,\n",
        "        stdout=subprocess.PIPE,\n",
        "        stderr=subprocess.STDOUT,\n",
        "        # Make all end-of-lines '\\n'\n",
        "        universal_newlines=True,\n",
        "    )\n",
        "    for line in unbuffered(proc):\n",
        "        print(line)\n",
        "        \n",
        "\n",
        "\n",
        "transfare()\n",
        "!sudo mv /content/downloads/*  /content/drive/Shareddrives/UHDMovies.in/Amit/"
      ]
    },
    {
      "cell_type": "code",
      "execution_count": null,
      "metadata": {
        "id": "9uLVzlheb4UC"
      },
      "outputs": [],
      "source": [
        "#@title m3u8 { vertical-output: true }\n",
        "!pip install ffmpeg-python #inspectelement #paste java code from mediasniffer.js\n",
        "!ffmpeg -i \"https://video3.xhcdn.com/key=nMSwlkbwY4ps-TNvbvf+KA,end=1658322000/data=2409:4089:a013:547b:7317:4918:567d:a597-mv/media=hls4/009/502/783/720p.h264.mp4.m3u8\" -bsf:a aac_adtstoasc -vcodec copy -c copy -crf 50 new.mp4 && mv /content/new.mp4 /content/drive/Shareddrives/UHDMovies.in/"
      ]
    },
    {
      "cell_type": "code",
      "execution_count": null,
      "metadata": {
        "id": "oI4BU3PY4HDn"
      },
      "outputs": [],
      "source": [
        "#@title Torrent { vertical-output: true }\n",
        "link = \"magnet:?xt=urn:btih:41432BB4A050350C16433CF65E8D80A80C9E5D1C&dn=Thriving+in+the+Eye+of+the+Hurricane+-+%28BookRAR%29&tr=udp%3A%2F%2Fopentor.org%3A2710%2Fannounce&tr=udp%3A%2F%2Ftracker.torrent.eu.org%3A451%2Fannounce&tr=udp%3A%2F%2Fexodus.desync.com%3A6969%2Fannounce&tr=udp%3A%2F%2Ftracker.moeking.me%3A6969%2Fannounce&tr=udp%3A%2F%2Ftracker.opentrackr.org%3A1337%2Fannounce&tr=udp%3A%2F%2Fopen.stealth.si%3A80%2Fannounce&tr=udp%3A%2F%2Ftracker.theoks.net%3A6969%2Fannounce&tr=udp%3A%2F%2Fretracker.lanta-net.ru%3A2710%2Fannounce&tr=udp%3A%2F%2Fmovies.zsw.ca%3A6969%2Fannounce&tr=udp%3A%2F%2Ffe.dealclub.de%3A6969%2Fannounce&tr=udp%3A%2F%2Fdiscord.heihachi.pw%3A6969%2Fannounce&tr=udp%3A%2F%2Ftracker.openbittorrent.com%3A80%2Fannounce&tr=udp%3A%2F%2Ftracker.openbittorrent.com%3A6969%2Fannounce&tr=udp%3A%2F%2Fadmin.videoenpoche.info%3A6969%2Fannounce&tr=udp%3A%2F%2Ftracker.zer0day.to%3A1337%2Fannounce&tr=udp%3A%2F%2Ftracker.leechers-paradise.org%3A6969%2Fannounce&tr=udp%3A%2F%2Fcoppersurfer.tk%3A6969%2Fannounce\"\n",
        "!python -m pip install --upgrade pip setuptools wheel\n",
        "!python -m pip install lbry-libtorrent\n",
        "import libtorrent as lt\n",
        "import time\n",
        "import datetime\n",
        "ses = lt.session()\n",
        "ses.listen_on(6881, 6891)\n",
        "params = {\n",
        "    'save_path': '/content/drive/Shareddrives/UHDMovies.in/',\n",
        "    'storage_mode': lt.storage_mode_t(2)}\n",
        "print(link)\n",
        "handle = lt.add_magnet_uri(ses, link, params)\n",
        "ses.start_dht()\n",
        "begin = time.time()\n",
        "print(datetime.datetime.now())\n",
        "print ('Downloading Metadata...')\n",
        "while (not handle.has_metadata()):\n",
        "    time.sleep(1)\n",
        "print ('Got Metadata, Starting Torrent Download...')\n",
        "print(\"Starting\", handle.name())\n",
        "while (handle.status().state != lt.torrent_status.seeding):\n",
        "    s = handle.status()\n",
        "    state_str = ['queued', 'checking', 'downloading metadata', \\\n",
        "            'downloading', 'finished', 'seeding', 'allocating']\n",
        "    print ('%.2f%% complete (down: %.1f kb/s up: %.1f kB/s peers: %d) %s ' % \\\n",
        "            (s.progress * 100, s.download_rate / 1000, s.upload_rate / 1000, \\\n",
        "            s.num_peers, state_str[s.state]))\n",
        "    time.sleep(5)\n",
        "end = time.time()\n",
        "print(handle.name(), \"COMPLETE\")\n",
        "print(\"Elapsed Time: \",int((end-begin)//60),\"min :\", int((end-begin)%60), \"sec\")\n",
        "print(datetime.datetime.now())"
      ]
    },
    {
      "cell_type": "code",
      "execution_count": null,
      "metadata": {
        "id": "9nFhh_IX3q2S"
      },
      "outputs": [],
      "source": [
        "#from google.colab.output import eval_js\n",
        "print(eval_js(\"google.colab.kernel.proxyPort(8000)\"))\n",
        "!cd .. && python -m http.server 8000"
      ]
    }
  ],
  "metadata": {
    "colab": {
      "collapsed_sections": [],
      "name": "Main.ipynb",
      "provenance": [],
      "mount_file_id": "11FayUjTMiFj2spVcyQEetROfdy3bxAPN",
      "authorship_tag": "ABX9TyOMX0N6AOpMCIaYeEf7E6PT",
      "include_colab_link": true
    },
    "kernelspec": {
      "display_name": "Python 3",
      "name": "python3"
    },
    "language_info": {
      "name": "python"
    }
  },
  "nbformat": 4,
  "nbformat_minor": 0
}