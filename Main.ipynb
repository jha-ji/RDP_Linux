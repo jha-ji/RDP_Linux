{
  "cells": [
    {
      "cell_type": "markdown",
      "metadata": {
        "id": "view-in-github",
        "colab_type": "text"
      },
      "source": [
        "<a href=\"https://colab.research.google.com/github/amitstudydude/RDP_Linux/blob/main/Main.ipynb\" target=\"_parent\"><img src=\"https://colab.research.google.com/assets/colab-badge.svg\" alt=\"Open In Colab\"/></a>"
      ]
    },
    {
      "cell_type": "code",
      "source": [
        "\n",
        "#@title Http Server  { vertical-output: true }\n",
        "!echo 'export domain=\"80044-jhaji.pagekite.me\" && export port=\"4444\" && export passwd=\"24ebe38z\" && export email=\"gpw97v95c@mozmail.com\" &&  export parent=\"jhaji.pagekite.me\"' >> yo && cp yo page.sh && cp yo finale.sh && rm yo\n",
        "!wget -O lull https://raw.githubusercontent.com/amitstudydude/RDP_Linux/main/scripts/expect.sh && cat lull >> finale.sh && rm lull\n",
        "!sudo bash finale.sh\n",
        "!pagekite.py $port $domain > /dev/null 2>&1 &\n",
        "!cd .. && python -m http.server 4444"
      ],
      "metadata": {
        "id": "A4J9grV7leJ7"
      },
      "execution_count": null,
      "outputs": []
    },
    {
      "cell_type": "code",
      "execution_count": null,
      "metadata": {
        "colab": {
          "background_save": true
        },
        "id": "ZXpfvgDZKqHM"
      },
      "outputs": [],
      "source": [
        "#@title URL to GDRIVE { vertical-output: true }\n",
        "!su - root -c \"cd /content/drive/Shareddrives/UHDMovies.in/Amit/ && \\\n",
        " wget \""
      ]
    },
    {
      "cell_type": "code",
      "source": [
        "%%bash\n",
        "su - root -c \"mkdir -p /root/.config/rclone/ && cd /root/.config/rclone/ && cp /content/drive/Shareddrives/UHDMovies.in/Backup/Rclone/rclone.conf . \"\n",
        "curl https://rclone.org/install.sh | sudo bash\n",
        "rclone ls"
      ],
      "metadata": {
        "id": "4M7D-zSkt_AP"
      },
      "execution_count": null,
      "outputs": []
    },
    {
      "cell_type": "code",
      "execution_count": null,
      "metadata": {
        "id": "2eeg-WTS9Wy6"
      },
      "outputs": [],
      "source": [
        "#@title unzip { vertical-output: true }\n",
        "!sudo apt install unzip\n",
        "!su - root -c \"cd /content/drive/Shareddrives/UHDMovies.in/DriveApp/  && unzip ./*.zip \""
      ]
    },
    {
      "cell_type": "code",
      "execution_count": null,
      "metadata": {
        "id": "BPbV_V3TOBBh"
      },
      "outputs": [],
      "source": [
        "#@title MEGA to GDRIVE  { vertical-output: true }\n",
        "URL = \"https://mega.nz/file/cnwVlIgI#fN14dVFQbAEMMG1aNDn-Ow7DQqqw\" \n",
        "OUTPUT_PATH = \"\" \n",
        "import sys, os, urllib.request\n",
        "import time\n",
        "import subprocess\n",
        "import contextlib\n",
        "from IPython.display import clear_output\n",
        "HOME = os.path.expanduser(\"~\")\n",
        "if not os.path.exists(f\"{HOME}/.ipython/ocr.py\"):\n",
        "    hCode = \"https://raw.githubusercontent.com/biplobsd/\" \\\n",
        "                \"OneClickRun/master/res/ocr.py\"\n",
        "    urllib.request.urlretrieve(hCode, f\"{HOME}/.ipython/ocr.py\")\n",
        "\n",
        "from ocr import (\n",
        "    runSh,\n",
        "    loadingAn,\n",
        ")\n",
        "if not OUTPUT_PATH:\n",
        "  os.makedirs(\"downloads\", exist_ok=True)\n",
        "  OUTPUT_PATH = \"downloads\"\n",
        "# MEGAcmd installing\n",
        "if not os.path.exists(\"/usr/bin/mega-cmd\"):\n",
        "    loadingAn()\n",
        "    print(\"Installing MEGA ...\")\n",
        "    runSh('sudo apt-get -y update')\n",
        "    runSh('sudo apt-get -y install libmms0 libc-ares2 libc6 libcrypto++6 libgcc1 libmediainfo0v5 libpcre3 libpcrecpp0v5 libssl1.1 libstdc++6 libzen0v5 zlib1g apt-transport-https')\n",
        "    runSh('sudo curl -sL -o /var/cache/apt/archives/MEGAcmd.deb https://mega.nz/linux/MEGAsync/Debian_9.0/amd64/megacmd-Debian_9.0_amd64.deb', output=True)\n",
        "    runSh('sudo dpkg -i /var/cache/apt/archives/MEGAcmd.deb', output=True)\n",
        "    print(\"MEGA is installed.\")\n",
        "    clear_output()\n",
        "\n",
        "# Unix, Windows and old Macintosh end-of-line\n",
        "newlines = ['\\n', '\\r\\n', '\\r']\n",
        "\n",
        "def unbuffered(proc, stream='stdout'):\n",
        "    stream = getattr(proc, stream)\n",
        "    with contextlib.closing(stream):\n",
        "        while True:\n",
        "            out = []\n",
        "            last = stream.read(1)\n",
        "            # Don't loop forever\n",
        "            if last == '' and proc.poll() is not None:\n",
        "                break\n",
        "            while last not in newlines:\n",
        "                # Don't loop forever\n",
        "                if last == '' and proc.poll() is not None:\n",
        "                    break\n",
        "                out.append(last)\n",
        "                last = stream.read(1)\n",
        "            out = ''.join(out)\n",
        "            yield out\n",
        "\n",
        "\n",
        "def transfare():\n",
        "    import codecs\n",
        "    decoder = codecs.getincrementaldecoder(\"UTF-8\")()\n",
        "    cmd = [\"mega-get\", URL, OUTPUT_PATH]\n",
        "    proc = subprocess.Popen(\n",
        "        cmd,\n",
        "        stdout=subprocess.PIPE,\n",
        "        stderr=subprocess.STDOUT,\n",
        "        # Make all end-of-lines '\\n'\n",
        "        universal_newlines=True,\n",
        "    )\n",
        "    for line in unbuffered(proc):\n",
        "        print(line)\n",
        "        \n",
        "\n",
        "\n",
        "transfare()\n",
        "!sudo mv /content/downloads/*  /content/drive/Shareddrives/UHDMovies.in/Amit/"
      ]
    },
    {
      "cell_type": "code",
      "execution_count": null,
      "metadata": {
        "colab": {
          "background_save": true
        },
        "id": "9uLVzlheb4UC"
      },
      "outputs": [],
      "source": [
        "#@title m3u8 { vertical-output: true }\n",
        "!pip install ffmpeg-python\n",
        "!ffmpeg -i \"https://d1d34p8vz63oiq.cloudfront.net/0e7df227-d217-4d04-adc6-401c84e4703d/hls/480/main.m3u8\" -bsf:a aac_adtstoasc -vcodec copy -c copy -crf 50 new.mp4 && mv /content/new.mp4 /content/drive/Shareddrives/UHDMovies.in/Amit/Downloads/"
      ]
    },
    {
      "cell_type": "code",
      "execution_count": null,
      "metadata": {
        "id": "oI4BU3PY4HDn"
      },
      "outputs": [],
      "source": [
        "#@title Torrent { vertical-output: true }\n",
        "link = \"\"\n",
        "!python -m pip install --upgrade pip setuptools wheel\n",
        "!python -m pip install lbry-libtorrent\n",
        "import libtorrent as lt\n",
        "import time\n",
        "import datetime\n",
        "ses = lt.session()\n",
        "ses.listen_on(6881, 6891)\n",
        "params = {\n",
        "    'save_path': '/content/drive/Shareddrives/UHDMovies.in/Amit/',\n",
        "    'storage_mode': lt.storage_mode_t(2)}\n",
        "print(link)\n",
        "handle = lt.add_magnet_uri(ses, link, params)\n",
        "ses.start_dht()\n",
        "begin = time.time()\n",
        "print(datetime.datetime.now())\n",
        "print ('Downloading Metadata...')\n",
        "while (not handle.has_metadata()):\n",
        "    time.sleep(1)\n",
        "print ('Got Metadata, Starting Torrent Download...')\n",
        "print(\"Starting\", handle.name())\n",
        "while (handle.status().state != lt.torrent_status.seeding):\n",
        "    s = handle.status()\n",
        "    state_str = ['queued', 'checking', 'downloading metadata', \\\n",
        "            'downloading', 'finished', 'seeding', 'allocating']\n",
        "    print ('%.2f%% complete (down: %.1f kb/s up: %.1f kB/s peers: %d) %s ' % \\\n",
        "            (s.progress * 100, s.download_rate / 1000, s.upload_rate / 1000, \\\n",
        "            s.num_peers, state_str[s.state]))\n",
        "    time.sleep(5)\n",
        "end = time.time()\n",
        "print(handle.name(), \"COMPLETE\")\n",
        "print(\"Elapsed Time: \",int((end-begin)//60),\"min :\", int((end-begin)%60), \"sec\")\n",
        "print(datetime.datetime.now())"
      ]
    },
    {
      "cell_type": "code",
      "source": [
        "#from google.colab.output import eval_js\n",
        "print(eval_js(\"google.colab.kernel.proxyPort(8000)\"))\n",
        "!cd .. && python -m http.server 8000"
      ],
      "metadata": {
        "id": "9nFhh_IX3q2S"
      },
      "execution_count": null,
      "outputs": []
    }
  ],
  "metadata": {
    "colab": {
      "collapsed_sections": [],
      "name": "Main.ipynb",
      "provenance": [],
      "mount_file_id": "11FayUjTMiFj2spVcyQEetROfdy3bxAPN",
      "authorship_tag": "ABX9TyP844QVyios4xiRvGGqYuR9",
      "include_colab_link": true
    },
    "kernelspec": {
      "display_name": "Python 3",
      "name": "python3"
    },
    "language_info": {
      "name": "python"
    }
  },
  "nbformat": 4,
  "nbformat_minor": 0
}